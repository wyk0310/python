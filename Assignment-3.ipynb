{
 "cells": [
  {
   "cell_type": "markdown",
   "metadata": {},
   "source": [
    "#Assignment 3"
   ]
  },
  {
   "cell_type": "markdown",
   "metadata": {},
   "source": [
    "#####Script Programming 2분반 과제 3"
   ]
  },
  {
   "cell_type": "markdown",
   "metadata": {},
   "source": [
    "학번 : 2011136073  \n",
    "이름 : 우용근"
   ]
  },
  {
   "cell_type": "markdown",
   "metadata": {},
   "source": [
    "* L = [1, 2, 3, 4, 5]일 때 다음 각 문장을 수행한 후의 결과를 보고 납득할 만한 이유를 설명하시오.\n",
    "    * 1)  \n",
    "    L[1:3] = [100]  \n",
    "    print L  \n",
    "    * 2)  \n",
    "    L[1:3] = [(100)]  \n",
    "    print L  \n",
    "    * 3)  \n",
    "    L[1:3] = 100  \n",
    "    print L  \n",
    "    * 4)  \n",
    "    L[1:3] = (100)  \n",
    "    print L  \n",
    "    * 5)  \n",
    "    L[1:3] = (100, 101, 102)  \n",
    "    print L  \n",
    "    * 6)  \n",
    "    L[1:3] = [100, 101, 102]  \n",
    "    print L  \n",
    "    * 7)  \n",
    "    L[1:3] = [(100, 101, 102)]  \n",
    "    print L  \n",
    "    * 8)  \n",
    "    L[1:3] = [[100, 101, 102]]  \n",
    "    print L"
   ]
  },
  {
   "cell_type": "code",
   "execution_count": 2,
   "metadata": {
    "collapsed": false
   },
   "outputs": [
    {
     "name": "stdout",
     "output_type": "stream",
     "text": [
      "[1, 100, 4, 5]\n"
     ]
    }
   ],
   "source": [
    "L = [1, 2, 3, 4, 5]\n",
    "L[1:3] = [100]\n",
    "print L"
   ]
  },
  {
   "cell_type": "markdown",
   "metadata": {},
   "source": [
    "L의 2, 3이 위치한 곳에 100 이라는 리스트 원소로 대체를 하는 코드이다."
   ]
  },
  {
   "cell_type": "code",
   "execution_count": 3,
   "metadata": {
    "collapsed": false
   },
   "outputs": [
    {
     "name": "stdout",
     "output_type": "stream",
     "text": [
      "[1, 100, 4, 5]\n"
     ]
    }
   ],
   "source": [
    "L = [1, 2, 3, 4, 5]\n",
    "L[1:3] = [(100)]\n",
    "print L"
   ]
  },
  {
   "cell_type": "markdown",
   "metadata": {},
   "source": [
    "L의 2, 3이 위치한 곳에 100이라는 단일 값의 리스트 원소로 대체를 하는 코드이다. 위의 코드와 기능이 같다."
   ]
  },
  {
   "cell_type": "code",
   "execution_count": 4,
   "metadata": {
    "collapsed": false
   },
   "outputs": [
    {
     "ename": "TypeError",
     "evalue": "can only assign an iterable",
     "output_type": "error",
     "traceback": [
      "\u001b[0;31m---------------------------------------------------------------------------\u001b[0m",
      "\u001b[0;31mTypeError\u001b[0m                                 Traceback (most recent call last)",
      "\u001b[0;32m<ipython-input-4-21449691155d>\u001b[0m in \u001b[0;36m<module>\u001b[0;34m()\u001b[0m\n\u001b[1;32m      1\u001b[0m \u001b[0mL\u001b[0m \u001b[0;34m=\u001b[0m \u001b[0;34m[\u001b[0m\u001b[0;36m1\u001b[0m\u001b[0;34m,\u001b[0m \u001b[0;36m2\u001b[0m\u001b[0;34m,\u001b[0m \u001b[0;36m3\u001b[0m\u001b[0;34m,\u001b[0m \u001b[0;36m4\u001b[0m\u001b[0;34m,\u001b[0m \u001b[0;36m5\u001b[0m\u001b[0;34m]\u001b[0m\u001b[0;34m\u001b[0m\u001b[0m\n\u001b[0;32m----> 2\u001b[0;31m \u001b[0mL\u001b[0m\u001b[0;34m[\u001b[0m\u001b[0;36m1\u001b[0m\u001b[0;34m:\u001b[0m\u001b[0;36m3\u001b[0m\u001b[0;34m]\u001b[0m \u001b[0;34m=\u001b[0m \u001b[0;36m100\u001b[0m\u001b[0;34m\u001b[0m\u001b[0m\n\u001b[0m\u001b[1;32m      3\u001b[0m \u001b[0;32mprint\u001b[0m \u001b[0mL\u001b[0m\u001b[0;34m\u001b[0m\u001b[0m\n",
      "\u001b[0;31mTypeError\u001b[0m: can only assign an iterable"
     ]
    }
   ],
   "source": [
    "L = [1, 2, 3, 4, 5]\n",
    "L[1:3] = 100\n",
    "print L"
   ]
  },
  {
   "cell_type": "code",
   "execution_count": 5,
   "metadata": {
    "collapsed": false
   },
   "outputs": [
    {
     "ename": "TypeError",
     "evalue": "can only assign an iterable",
     "output_type": "error",
     "traceback": [
      "\u001b[0;31m---------------------------------------------------------------------------\u001b[0m",
      "\u001b[0;31mTypeError\u001b[0m                                 Traceback (most recent call last)",
      "\u001b[0;32m<ipython-input-5-708053a6bae3>\u001b[0m in \u001b[0;36m<module>\u001b[0;34m()\u001b[0m\n\u001b[1;32m      1\u001b[0m \u001b[0mL\u001b[0m \u001b[0;34m=\u001b[0m \u001b[0;34m[\u001b[0m\u001b[0;36m1\u001b[0m\u001b[0;34m,\u001b[0m \u001b[0;36m2\u001b[0m\u001b[0;34m,\u001b[0m \u001b[0;36m3\u001b[0m\u001b[0;34m,\u001b[0m \u001b[0;36m4\u001b[0m\u001b[0;34m,\u001b[0m \u001b[0;36m5\u001b[0m\u001b[0;34m]\u001b[0m\u001b[0;34m\u001b[0m\u001b[0m\n\u001b[0;32m----> 2\u001b[0;31m \u001b[0mL\u001b[0m\u001b[0;34m[\u001b[0m\u001b[0;36m1\u001b[0m\u001b[0;34m:\u001b[0m\u001b[0;36m3\u001b[0m\u001b[0;34m]\u001b[0m \u001b[0;34m=\u001b[0m \u001b[0;34m(\u001b[0m\u001b[0;36m100\u001b[0m\u001b[0;34m)\u001b[0m\u001b[0;34m\u001b[0m\u001b[0m\n\u001b[0m\u001b[1;32m      3\u001b[0m \u001b[0;32mprint\u001b[0m \u001b[0mL\u001b[0m\u001b[0;34m\u001b[0m\u001b[0m\n",
      "\u001b[0;31mTypeError\u001b[0m: can only assign an iterable"
     ]
    }
   ],
   "source": [
    "L = [1, 2, 3, 4, 5]\n",
    "L[1:3] = (100)\n",
    "print L"
   ]
  },
  {
   "cell_type": "code",
   "execution_count": 6,
   "metadata": {
    "collapsed": false
   },
   "outputs": [
    {
     "name": "stdout",
     "output_type": "stream",
     "text": [
      "[1, 100, 101, 102, 4, 5]\n"
     ]
    }
   ],
   "source": [
    "L = [1, 2, 3, 4, 5]\n",
    "L[1:3] = (100, 101, 102)\n",
    "print L"
   ]
  },
  {
   "cell_type": "code",
   "execution_count": 7,
   "metadata": {
    "collapsed": false
   },
   "outputs": [
    {
     "name": "stdout",
     "output_type": "stream",
     "text": [
      "[1, 100, 101, 102, 4, 5]\n"
     ]
    }
   ],
   "source": [
    "L = [1, 2, 3, 4, 5]\n",
    "L[1:3] = [100, 101, 102]\n",
    "print L"
   ]
  },
  {
   "cell_type": "code",
   "execution_count": 8,
   "metadata": {
    "collapsed": false
   },
   "outputs": [
    {
     "name": "stdout",
     "output_type": "stream",
     "text": [
      "[1, (100, 101, 102), 4, 5]\n"
     ]
    }
   ],
   "source": [
    "L = [1, 2, 3, 4, 5]\n",
    "L[1:3] = [(100, 101, 102)]\n",
    "print L"
   ]
  },
  {
   "cell_type": "code",
   "execution_count": 9,
   "metadata": {
    "collapsed": false
   },
   "outputs": [
    {
     "name": "stdout",
     "output_type": "stream",
     "text": [
      "[1, [100, 101, 102], 4, 5]\n"
     ]
    }
   ],
   "source": [
    "L = [1, 2, 3, 4, 5]\n",
    "L[1:3] = [[100, 101, 102]]\n",
    "print L"
   ]
  },
  {
   "cell_type": "markdown",
   "metadata": {},
   "source": [
    "---"
   ]
  },
  {
   "cell_type": "markdown",
   "metadata": {},
   "source": [
    "* 문자열 S = 'Hello World and Python'에 대해 다음 요구사항에 대한 Python 코드를 제시하시오.\n",
    "    * 1) 단어의 순서가 역순으로 되어진 문자열 ('Python and World Hello')을 만들고\n",
    "    * 2) 1)의 결과 문자열에 대해 메소드 split과 join을 이용하여 공백을 모두 없엔 문자열 'PythonandWorldHello'을 만드시오."
   ]
  },
  {
   "cell_type": "code",
   "execution_count": 30,
   "metadata": {
    "collapsed": false
   },
   "outputs": [
    {
     "name": "stdout",
     "output_type": "stream",
     "text": [
      "Python and World Hello \n",
      "['Python', 'and', 'World', 'Hello']\n",
      "PythonandWorldHello\n"
     ]
    }
   ],
   "source": [
    "S = 'Hello World and Python'\n",
    "s = S[16:] + ' ' + S[12:16] + S[6:12] + S[0:6]\n",
    "print s\n",
    "s_split = s.split()\n",
    "print s_split\n",
    "\n",
    "s_join = ''.join(s_split)\n",
    "print s_join"
   ]
  },
  {
   "cell_type": "markdown",
   "metadata": {},
   "source": [
    "---"
   ]
  },
  {
   "cell_type": "markdown",
   "metadata": {},
   "source": [
    "* 다음 코드를 보고 물음에 답하시오.  \n",
    "    a = [1, 2, 3]\n",
    "    \n",
    "    b = a * 3\n",
    "    \n",
    "    c = [a] * 3  \n",
    "    \n",
    "    print b  \n",
    "    \n",
    "    print c  \n",
    "    \n",
    "    * 1) 위 코드를 수행한 이후 다음 코드를 수행한 후 b와 c의 내용을 확인하시오.  \n",
    "            a[0] = 0  \n",
    "    * 2) b와 c 객체의 차이는 무엇인가?"
   ]
  },
  {
   "cell_type": "code",
   "execution_count": 32,
   "metadata": {
    "collapsed": false
   },
   "outputs": [
    {
     "name": "stdout",
     "output_type": "stream",
     "text": [
      "[1, 2, 3, 1, 2, 3, 1, 2, 3]\n",
      "[[1, 2, 3], [1, 2, 3], [1, 2, 3]]\n",
      "[1, 2, 3, 1, 2, 3, 1, 2, 3]\n",
      "[[0, 2, 3], [0, 2, 3], [0, 2, 3]]\n"
     ]
    }
   ],
   "source": [
    "a = [1, 2, 3]\n",
    "b = a * 3\n",
    "c = [a] * 3\n",
    "print b\n",
    "print c\n",
    "a[0] = 0\n",
    "print b\n",
    "print c"
   ]
  },
  {
   "cell_type": "markdown",
   "metadata": {},
   "source": [
    "b는 a를 기반으로 새로 만들어진 새로운 객체이고, c는 기존의 a를 그때 그때 불러와서 출력한다."
   ]
  },
  {
   "cell_type": "markdown",
   "metadata": {},
   "source": [
    "---"
   ]
  },
  {
   "cell_type": "markdown",
   "metadata": {},
   "source": [
    "* 다음 문자열을 ':'을 기준으로 분리하여 리스트로 만들고 각 문자열의 좌우 공백을 제거하시오  \n",
    "(즉, 문자열 S에서 l를 만들어라)  \n",
    "    s = '  first star   :   second star   :    third star  '   \n",
    "    l = ['first star', 'second start', 'third star']  \n",
    "    * 1) for ~ in 문을 이용한 코드를 작성하시오.\n",
    "    * 2) 리스트 내포(list comprehension)를 이용한 코드를 작성하시오."
   ]
  },
  {
   "cell_type": "code",
   "execution_count": 38,
   "metadata": {
    "collapsed": false
   },
   "outputs": [
    {
     "name": "stdout",
     "output_type": "stream",
     "text": [
      "['first star', 'second  star', 'third start']\n"
     ]
    }
   ],
   "source": [
    "s = '  first star  :  second star  :  third star  '\n",
    "l = s.split(':')\n",
    "for i in range(len(l)):\n",
    "    l[i] = l[i].strip()\n",
    "print l"
   ]
  },
  {
   "cell_type": "code",
   "execution_count": 43,
   "metadata": {
    "collapsed": false
   },
   "outputs": [
    {
     "name": "stdout",
     "output_type": "stream",
     "text": [
      "['first star', 'second star', 'third star']\n"
     ]
    }
   ],
   "source": [
    "s = '  first star  :  second star  :  third star  '\n",
    "l = [s.split(':')[i].strip() for i in range(len(s.split(':')))]\n",
    "print l"
   ]
  },
  {
   "cell_type": "markdown",
   "metadata": {},
   "source": [
    "---"
   ]
  },
  {
   "cell_type": "markdown",
   "metadata": {},
   "source": [
    "* 다음과 같이 0보다 큰 정수 리스트 변수 list를 인자로 받는 함수 addall(list)와 addallodd(list)를 for ~ in 리터럴과 리스트 내포 방식으로 각각 제시하시오.  \n",
    "    * 1) addall(list) 함수 (리스트 내의 모든 정수를 더하는 함수로서 해답으로는 for ~ in 리터럴과 리스트 내포 방식으로 각각 제시하시오.)  \n",
    "    \n",
    "        addall([1])  \n",
    "        1  \n",
    "        \n",
    "        addall([1, 2, 3, 4, 5, 6, 7, 8, 9])  \n",
    "        45  \n",
    "          \n",
    "    * 2) addallodd(list) 함수 (리스트내의 모든 홀수를 더하는 함수로서 해답으로는 for ~ in 리터럴과 리스트 내포 방식으로 각각 제시하시오.)  \n",
    "    \n",
    "        addallodd([1])  \n",
    "        1  \n",
    "        \n",
    "        addallodd([1, 2, 3, 4, 5, 6, 7, 8, 9])  \n",
    "        25  \n",
    "        \n",
    "    * [참고]: 리스트 내포 방식으로 addall() 및 addallodd()함수를 만들 때엔 리스트 내포에 의해 생성된 리스트 결과에 대해 내장 함수를 사용하는 방식을 고려해보시오 (주의: 리스트 내포방식의 addall() 및 addallodd() 함수의 몸체는 단 1줄로 작성 되어야 한다.)"
   ]
  },
  {
   "cell_type": "code",
   "execution_count": 13,
   "metadata": {
    "collapsed": false
   },
   "outputs": [
    {
     "name": "stdout",
     "output_type": "stream",
     "text": [
      "45\n",
      "45\n"
     ]
    }
   ],
   "source": [
    "def addall(list):\n",
    "    a = 0\n",
    "    for i in range(len(list)):\n",
    "        a += list[i]\n",
    "    return a\n",
    "\n",
    "def addall_listcom(list):\n",
    "    return sum([list[i] for i in range(len(list))])\n",
    "\n",
    "print addall([1, 2, 3, 4, 5, 6, 7, 8, 9])\n",
    "print addall_listcom([1, 2, 3, 4, 5, 6, 7, 8, 9])"
   ]
  },
  {
   "cell_type": "code",
   "execution_count": 16,
   "metadata": {
    "collapsed": false
   },
   "outputs": [
    {
     "name": "stdout",
     "output_type": "stream",
     "text": [
      "25\n",
      "25\n"
     ]
    }
   ],
   "source": [
    "def addallodd(list):\n",
    "    a = 0\n",
    "    for i in range(len(list)):\n",
    "        if list[i]%2:\n",
    "            a += list[i]\n",
    "    return a\n",
    "\n",
    "def addallodd_listcom(list):\n",
    "    return sum([list[i] for i in range(len(list)) if list[i]%2])\n",
    "\n",
    "print addallodd([1, 2, 3, 4, 5, 6, 7, 8, 9])\n",
    "print addallodd_listcom([1, 2, 3, 4, 5, 6, 7, 8, 9])"
   ]
  },
  {
   "cell_type": "markdown",
   "metadata": {},
   "source": [
    "---"
   ]
  },
  {
   "cell_type": "markdown",
   "metadata": {},
   "source": [
    "* 다음 코드를 보고 물음에 답하시오.  \n",
    "    L1 = [1, 2, 3]  \n",
    "    L2 = [4, 5, 6]  \n",
    "    d = {'low':L1, 'high':L2}  \n",
    "    e = d  \n",
    "    f = d.copy()  \n",
    "    print d  \n",
    "    print e  \n",
    "    print f  \n",
    "    print d['low'] = [10, 20, 30]  \n",
    "    d['high'][1] = 500  \n",
    "    print d  \n",
    "    print e  \n",
    "    print f  \n",
    "    * 1) 위 코드의 수행 결과 d와 e는 항상 같은 결과를 출력한다. 그 이유는 무엇인가?  \n",
    "    * 2) 위 코드의 수행결과 마지막 f의 내용은 다음과 같다. 이 때 'high'키의 값 내용 중 500이 출력된 이유와 'low'키의 값 내용 중 [1,2,3]이 출력된 이유를 설명해 보시오([hint]: shallow copy 관점에서 설명하시오.)  \n",
    "            {'high': [4, 500, 6], 'low': [1, 2, 3]}"
   ]
  },
  {
   "cell_type": "markdown",
   "metadata": {},
   "source": [
    "1) e는 d를 가리키고 있다. 결국 같은 객체를 가리키고 있으므로 d에서 값을 변경하면 그 변경된 객체를 e도 항상 가리키고 있으므로 e와 d의 출력 결과는 항상 같게 된다.  \n",
    "2) d['low'] = [10, 20, 30] 은 d의 'low'가 L1을 가리키고 있던 것을 새로운 리스트 [10, 20, 30] 을 가리키게 만든 것이다. 그러나 이 전에 .copy()함수로 복사된 f의 'low'는 여전히 L1을 가리키고 있으므로 'low'의 값은 [1, 2, 3], L1이 출력되는 것이고, d['high'][1] = 500은 'high'가 가리키고 있는 L2객체의 두번째 원소 5를 500으로 바꿔준 것이다. f의 'high'는 여전히 L2를 가리키고 있으므로 [4, 500, 6] 이 출력된다."
   ]
  },
  {
   "cell_type": "markdown",
   "metadata": {},
   "source": [
    "---"
   ]
  },
  {
   "cell_type": "markdown",
   "metadata": {},
   "source": [
    "* 사전 d = {'one':1, 'two':2, 'three':3, 'four':4, 'five':5}가 주어졌을 때 다음 요구사항에 맞는 코드를 제시하시오.  \n",
    "    * [참고]: d.keys(), d.values()를 통해 리스트를 얻어낸 후 리스트가 지니고 있는 sort(cmp=None, key=None, reverse=False)함수를 활용하시오.  \n",
    "    * 1) 키의 알파벳 오름차순 순서대로 튜플 (키, 값)을 차례대로 출력하시오.  \n",
    "    * 2) 키의 알파벳 내림차순 순서대로 튜플 (키, 값)을 차례대로 출력하시오.\n",
    "    * 3) 값의 오름차순 순서대로 튜플 (키, 값)을 차례대로 출력하시오.\n",
    "    * 4) 값의 내림차순 순서대로 튜플 (키, 값)을 차례대로 출력하시오."
   ]
  },
  {
   "cell_type": "code",
   "execution_count": 22,
   "metadata": {
    "collapsed": false
   },
   "outputs": [
    {
     "name": "stdout",
     "output_type": "stream",
     "text": [
      "[('five', 5), ('four', 4), ('one', 1), ('three', 3), ('two', 2)]\n"
     ]
    }
   ],
   "source": [
    "d = {'one':1, 'two':2, 'three':3, 'four':4, 'five':5}\n",
    "L = d.items()\n",
    "L.sort()\n",
    "print L"
   ]
  },
  {
   "cell_type": "code",
   "execution_count": 23,
   "metadata": {
    "collapsed": false
   },
   "outputs": [
    {
     "name": "stdout",
     "output_type": "stream",
     "text": [
      "[('two', 2), ('three', 3), ('one', 1), ('four', 4), ('five', 5)]\n"
     ]
    }
   ],
   "source": [
    "d = {'one':1, 'two':2, 'three':3, 'four':4, 'five':5}\n",
    "L = d.items()\n",
    "L.sort(None, None, True)\n",
    "print L"
   ]
  },
  {
   "cell_type": "code",
   "execution_count": 25,
   "metadata": {
    "collapsed": false
   },
   "outputs": [
    {
     "name": "stdout",
     "output_type": "stream",
     "text": [
      "[('one', 1), ('two', 2), ('three', 3), ('four', 4), ('five', 5)]\n"
     ]
    }
   ],
   "source": [
    "def cmp_value(a1, a2):\n",
    "    return cmp(a1[1], a2[1])\n",
    "\n",
    "d = {'one':1, 'two':2, 'three':3, 'four':4, 'five':5}\n",
    "L = d.items()\n",
    "L.sort(cmp_value)\n",
    "print L"
   ]
  },
  {
   "cell_type": "code",
   "execution_count": 26,
   "metadata": {
    "collapsed": false
   },
   "outputs": [
    {
     "name": "stdout",
     "output_type": "stream",
     "text": [
      "[('five', 5), ('four', 4), ('three', 3), ('two', 2), ('one', 1)]\n"
     ]
    }
   ],
   "source": [
    "def cmp_value(a1, a2):\n",
    "    return cmp(a1[1], a2[1])\n",
    "\n",
    "d = {'one':1, 'two':2, 'three':3, 'four':4, 'five':5}\n",
    "L = d.items()\n",
    "L.sort(cmp_value, None, True)\n",
    "print L"
   ]
  },
  {
   "cell_type": "markdown",
   "metadata": {},
   "source": [
    "---"
   ]
  },
  {
   "cell_type": "markdown",
   "metadata": {},
   "source": [
    "####프로젝트 오일러 문제 7"
   ]
  },
  {
   "cell_type": "markdown",
   "metadata": {},
   "source": [
    "소수를 크기 순으로 나열하면 2, 3, 5, 7, 11, 13, ... 과 같이 됩니다.  \n",
    "이 때 10,001번째 소수를 구하세요."
   ]
  },
  {
   "cell_type": "code",
   "execution_count": 3,
   "metadata": {
    "collapsed": false
   },
   "outputs": [
    {
     "name": "stdout",
     "output_type": "stream",
     "text": [
      "104743\n"
     ]
    }
   ],
   "source": [
    "primes = [2, 3, 5]\n",
    "index = 3\n",
    "number = 5\n",
    "while index<10001:\n",
    "    \n",
    "    number += 2\n",
    "    for i in range(len(primes)):\n",
    "        if number%primes[i]==0:\n",
    "            break\n",
    "    else:\n",
    "        index += 1\n",
    "        primes.append(number)\n",
    "        \n",
    "print primes[10000]\n",
    "        "
   ]
  },
  {
   "cell_type": "markdown",
   "metadata": {},
   "source": [
    "---"
   ]
  },
  {
   "cell_type": "markdown",
   "metadata": {
    "collapsed": true
   },
   "source": [
    "####프로젝트 오일러 8"
   ]
  },
  {
   "cell_type": "markdown",
   "metadata": {},
   "source": [
    "다음은 연속된 1000자리 숫자입니다.  \n",
    "73167176531330624919225119674426574742355349194934\n",
    "96983520312774506326239578318016984801869478851843\n",
    "85861560789112949495459501737958331952853208805511\n",
    "12540698747158523863050715693290963295227443043557\n",
    "66896648950445244523161731856403098711121722383113\n",
    "62229893423380308135336276614282806444486645238749\n",
    "30358907296290491560440772390713810515859307960866\n",
    "70172427121883998797908792274921901699720888093776\n",
    "65727333001053367881220235421809751254540594752243\n",
    "52584907711670556013604839586446706324415722155397\n",
    "53697817977846174064955149290862569321978468622482\n",
    "83972241375657056057490261407972968652414535100474\n",
    "82166370484403199890008895243450658541227588666881\n",
    "16427171479924442928230863465674813919123162824586\n",
    "17866458359124566529476545682848912883142607690042\n",
    "24219022671055626321111109370544217506941658960408\n",
    "07198403850962455444362981230987879927244284909188\n",
    "84580156166097919133875499200524063689912560717606\n",
    "05886116467109405077541002256983155200055935729725\n",
    "71636269561882670428252483600823257530420752963450\n",
    "\n",
    "여기서 붉게 표시된 71112의 경우 7, 1, 1, 1, 2 각 숫자를 곱하면 14가 됩니다.  \n",
    "  \n",
    "이런 식으로 맨 처음 (7 * 3 * 1 * 6 * 7 = 882) 부터 맨 끝 (6 * 3 * 4 * 5 * 0 = 0) 까지 5자리 숫자들의 곱을 구할 수 있습니다.  \n",
    "  \n",
    "이렇게 구할 수 있는 5자리 숫자의 곱 중에서 가장 큰 값은 얼마입니까?\n"
   ]
  },
  {
   "cell_type": "code",
   "execution_count": 4,
   "metadata": {
    "collapsed": false
   },
   "outputs": [
    {
     "name": "stdout",
     "output_type": "stream",
     "text": [
      "40824\n"
     ]
    }
   ],
   "source": [
    "input = 7316717653133062491922511967442657474235534919493496983520312774506326239578318016984801869478851843858615607891129494954595017379583319528532088055111254069874715852386305071569329096329522744304355766896648950445244523161731856403098711121722383113622298934233803081353362766142828064444866452387493035890729629049156044077239071381051585930796086670172427121883998797908792274921901699720888093776657273330010533678812202354218097512545405947522435258490771167055601360483958644670632441572215539753697817977846174064955149290862569321978468622482839722413756570560574902614079729686524145351004748216637048440319989000889524345065854122758866688116427171479924442928230863465674813919123162824586178664583591245665294765456828489128831426076900422421902267105562632111110937054421750694165896040807198403850962455444362981230987879927244284909188845801561660979191338754992005240636899125607176060588611646710940507754100225698315520005593572972571636269561882670428252483600823257530420752963450\n",
    "result = 0\n",
    "while input > 0:\n",
    "    tmp = (input % 10) * ((input // 10) % 10) * ((input // 100) % 10) * ((input // 1000) % 10) * ((input // 10000) % 10)\n",
    "    if result < tmp :\n",
    "        result = tmp\n",
    "    input = input // 10\n",
    "print result\n"
   ]
  },
  {
   "cell_type": "markdown",
   "metadata": {},
   "source": [
    "---"
   ]
  },
  {
   "cell_type": "markdown",
   "metadata": {},
   "source": [
    "####프로젝트 오일러 문제 9"
   ]
  },
  {
   "cell_type": "markdown",
   "metadata": {},
   "source": [
    "세 자연수 a, b, c 가 피타고라스 정리 ${a^2}+{b^2}={c^2}$를 만족하면 피타고라스 수라고 부릅니다. (여기서 $a<b<c$).  \n",
    "예를 들면 ${3^2}+{4^2}= 9 + 16 = 25 = {5^2}$이므로 3, 4, 5는 피타고라스 수 입니다.  \n",
    "$a + b + c = 1000$인 피타고라스 수 a, b, c는 한 가지 뿐입니다. 이때, $a * b * c$는 얼마입니까?"
   ]
  },
  {
   "cell_type": "code",
   "execution_count": 6,
   "metadata": {
    "collapsed": false
   },
   "outputs": [
    {
     "name": "stdout",
     "output_type": "stream",
     "text": [
      "31875000.0\n"
     ]
    }
   ],
   "source": [
    "import math\n",
    "result = 0\n",
    "index = 2\n",
    "i = 1\n",
    "while True:\n",
    "    \n",
    "    a = index\n",
    "    b = index + i\n",
    "    c = math.sqrt(pow(a, 2) + pow(b, 2))\n",
    "    if c % 1 == 0:\n",
    "        if a+b+c == 1000:\n",
    "            print a*b*c\n",
    "            break\n",
    "    if a+b+c > 1000:\n",
    "        index = index + 1\n",
    "        i = 1\n",
    "        continue\n",
    "    i = i + 1"
   ]
  },
  {
   "cell_type": "markdown",
   "metadata": {},
   "source": [
    "[InCremental Project] 이전 Assignment2의 마지막 문제는 웹 URL로 지정된 웹페이지를 문자열로 가져와 모든 HTML 태그 및 CSS와 Javascript를 제외한 순수 텍스트를 얻어내고 그 안에 존재하는 단어를 추출하고 단어들의 총 개수를 출력하는 프로그램을 작성하는 것이었다. 이번에는 그 마지막 숙제를 그대로 확장하여 웹 URL로 지정된 웹페이지 내 순수 텍스트 안에 존재하는 각 단어들에 대해 다음 요구사항 대로 출력하는 프로그램을 작성하시오.  \n",
    "* 요구사항 1. 순수 텍스트 안에 존재하는 단어들에 대해 string 모듈을 활용하여 모든 punctuation (구두문자)를 완벽히 제거하시오.  \n",
    "    * 예:['world!',':','+hello+','~python$$$','=','world'] ---> ['world','hello','python','world']  \n",
    "    * 모든 punctuation을 확인하는 방법은 아래와 같다.\n",
    "         import string  \n",
    "         print string.punctuation  \n",
    "* 요구사항 2. 만약 punctuation (구두문자)를 제거한 이후 공백으로 판명되는 단어들은 해당 단어 리스트에서 제거하시오.\n",
    "    * 예:['컴퓨터공학부!','---?','%지향~','...'] ---> ['컴퓨터공학부','지향']  \n",
    "* 요구사항 3. 각 단어들의 출현빈도를 사전형태로 저장하여 출력하시오.\n",
    "    * 예:['world','hello','python','world','컴퓨터공학부','지향'] ---> {'world':2, 'hello':1, 'python':1, '컴퓨터공학부':1, '지향':1}  \n",
    "* 요구사항 4. 다음 3개의 사이트에 대한 결과를 출력하시오.\n",
    "    * http://www.naver.com\n",
    "    * http://www.daum.net\n",
    "    * http://www.nytimes.com"
   ]
  },
  {
   "cell_type": "code",
   "execution_count": 61,
   "metadata": {
    "collapsed": false
   },
   "outputs": [
    {
     "ename": "KeyError",
     "evalue": "0",
     "output_type": "error",
     "traceback": [
      "\u001b[1;31m---------------------------------------------------------------------------\u001b[0m",
      "\u001b[1;31mKeyError\u001b[0m                                  Traceback (most recent call last)",
      "\u001b[1;32m<ipython-input-61-45b79fe03dab>\u001b[0m in \u001b[0;36m<module>\u001b[1;34m()\u001b[0m\n\u001b[0;32m     38\u001b[0m \u001b[0mL\u001b[0m \u001b[1;33m=\u001b[0m \u001b[0mD\u001b[0m\u001b[1;33m.\u001b[0m\u001b[0mitems\u001b[0m\u001b[1;33m(\u001b[0m\u001b[1;33m)\u001b[0m\u001b[1;33m\u001b[0m\u001b[0m\n\u001b[0;32m     39\u001b[0m \u001b[1;32mfor\u001b[0m \u001b[0mi\u001b[0m \u001b[1;32min\u001b[0m \u001b[0mrange\u001b[0m\u001b[1;33m(\u001b[0m\u001b[0mlen\u001b[0m\u001b[1;33m(\u001b[0m\u001b[0mD\u001b[0m\u001b[1;33m)\u001b[0m\u001b[1;33m)\u001b[0m\u001b[1;33m:\u001b[0m\u001b[1;33m\u001b[0m\u001b[0m\n\u001b[1;32m---> 40\u001b[1;33m     \u001b[1;32mprint\u001b[0m \u001b[0mD\u001b[0m\u001b[1;33m[\u001b[0m\u001b[0mi\u001b[0m\u001b[1;33m]\u001b[0m\u001b[1;33m\u001b[0m\u001b[0m\n\u001b[0m\u001b[0;32m     41\u001b[0m \u001b[1;33m\u001b[0m\u001b[0m\n",
      "\u001b[1;31mKeyError\u001b[0m: 0"
     ]
    }
   ],
   "source": [
    "import urllib2\n",
    "import string\n",
    "source = urllib2.urlopen(\"http://cse.kut.ac.kr/\").read()\n",
    "\n",
    "src_max = len(source)\n",
    "i = 0\n",
    "mode = True\n",
    "result = []\n",
    "tmp = \"\"\n",
    "res_string = []\n",
    "while i+1 < src_max:\n",
    "    if source[i] == '<':\n",
    "        mode = False           #태그가 시작되면 문자를 저장하지 않음\n",
    "        result.append(tmp)     #지금까지 저장한 글자들을 result 리스트에 저장\n",
    "        tmp=\"\"                 #버퍼 비움\n",
    "    elif source[i] == '>':\n",
    "        mode = True            #태그가 끝났으므로 문자를 저장할 준비를 함\n",
    "        tmp = \"\"               #주석에 대해서 예외처리\n",
    "    elif mode:\n",
    "        tmp += source[i]       #현재 문자를 저장해야할 시점이므로 버퍼에 저장\n",
    "    i = i + 1       #다음 글자로 이동\n",
    "for i in range(0, len(result)):      #구두문자 제거\n",
    "    str = result[i]\n",
    "    result[i] = str.translate(None, string.punctuation)\n",
    "for i in range(0, len(result)):\n",
    "    result[i] = result[i].split()    #공백을 split으로 없앰\n",
    "for i in range(0, len(result)):\n",
    "    for j in range(0, len(result[i])):\n",
    "        res_string.append(unicode(result[i][j], 'utf-8'))\n",
    "        #split으로 쪼갠 단어들은 이차원 리스트에 존재하므로 하나하나 다시 뽑아냄\n",
    "        #이차원 원소는 현재 모두 유효한 값만을 지니고 있음\n",
    "D = {}\n",
    "for i in range(len(res_string)):\n",
    "    if res_string[i] in D:\n",
    "        D[res_string[i]] += 1\n",
    "    else:\n",
    "        D[res_string[i]] = 1\n",
    "L = D.items()\n",
    "for i in range(len(L)):\n",
    "    print L[i].\n",
    "\n"
   ]
  },
  {
   "cell_type": "code",
   "execution_count": null,
   "metadata": {
    "collapsed": true
   },
   "outputs": [],
   "source": []
  }
 ],
 "metadata": {
  "kernelspec": {
   "display_name": "Python 2",
   "language": "python",
   "name": "python2"
  },
  "language_info": {
   "codemirror_mode": {
    "name": "ipython",
    "version": 2
   },
   "file_extension": ".py",
   "mimetype": "text/x-python",
   "name": "python",
   "nbconvert_exporter": "python",
   "pygments_lexer": "ipython2",
   "version": "2.7.9"
  }
 },
 "nbformat": 4,
 "nbformat_minor": 0
}
