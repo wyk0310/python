{
 "cells": [
  {
   "cell_type": "markdown",
   "metadata": {},
   "source": [
    "####프로젝트 오일러 문제4"
   ]
  },
  {
   "cell_type": "markdown",
   "metadata": {},
   "source": [
    "앞에서부터 읽을 때나 뒤에서부터 읽을 때나 모양이 같은 수를 대칭수(palindrome)라고 부릅니다.  \n",
    "두 자리 수를 곱해 만들 수 있는 대칭수 중 가장 큰 수는 9009 (= 91 * 99) 입니다.  \n",
    "세 자리 수를 곱해 만들 수 있는 가장 큰 대칭수는 얼마입니까?"
   ]
  },
  {
   "cell_type": "code",
   "execution_count": 5,
   "metadata": {
    "collapsed": false
   },
   "outputs": [
    {
     "name": "stdout",
     "output_type": "stream",
     "text": [
      "906609\n"
     ]
    }
   ],
   "source": [
    "result = 0\n",
    "for i in range(100, 999):\n",
    "    for j in range(100, 999):\n",
    "        tmp = i * j\n",
    "        tmp2 = i * j\n",
    "        tmp3 = 0\n",
    "        while tmp2 > 0:\n",
    "            tmp3 = tmp3 * 10\n",
    "            tmp3 = tmp3 + tmp2 % 10\n",
    "            tmp2 = tmp2 // 10\n",
    "        if tmp == tmp3:\n",
    "            if tmp > result:\n",
    "                result = tmp\n",
    "print result"
   ]
  },
  {
   "cell_type": "markdown",
   "metadata": {},
   "source": [
    "####프로젝트 오일러 문제5"
   ]
  },
  {
   "cell_type": "markdown",
   "metadata": {},
   "source": [
    "1~10 사이의 어떤 수로도 나누어 떨어지는 가장 작은 수는 2520입니다.  \n",
    "그러면 1~20 사이의 어떤 수로도 나누어 떨어지는 가장 작은 수는 얼마입니까?"
   ]
  },
  {
   "cell_type": "code",
   "execution_count": 6,
   "metadata": {
    "collapsed": false
   },
   "outputs": [
    {
     "name": "stdout",
     "output_type": "stream",
     "text": [
      "232792560\n"
     ]
    }
   ],
   "source": [
    "result = 2520 # 1~10으로 모두 나눠지는 가장 작은 수가 2520이므로 2520 부터 시작\n",
    "while True:\n",
    "    result = result + 20 # 기본적으로 2, 4, 5, 10, 20 으로 나눠짐\n",
    "    if result % 19:\n",
    "        continue\n",
    "    if result % 18:\n",
    "        continue\n",
    "    if result % 17:\n",
    "        continue\n",
    "    if result % 16:\n",
    "        continue\n",
    "    if result % 15:\n",
    "        continue\n",
    "    if result % 14:\n",
    "        continue\n",
    "    if result % 13:\n",
    "        continue\n",
    "    if result % 12:\n",
    "        continue\n",
    "    if result % 11:\n",
    "        continue\n",
    "    if result % 9:\n",
    "        continue\n",
    "    if result % 8:\n",
    "        continue\n",
    "    if result % 7:\n",
    "        continue\n",
    "    if result % 6:\n",
    "        continue\n",
    "    if result % 3:\n",
    "        continue\n",
    "    break\n",
    "print result\n",
    "    "
   ]
  },
  {
   "cell_type": "markdown",
   "metadata": {},
   "source": [
    "####프로젝트 오일러 문제 6"
   ]
  },
  {
   "cell_type": "markdown",
   "metadata": {},
   "source": [
    "1부터 10까지 자연수를 각각 제곱해 더하면 다음과 같습니다 (제곱의 합).  \n",
    "${1^2} + {2^2} + ... {10^2} = 385$  \n",
    "1부터 10을 먼저 더한 다음에 그 결과를 제곱하면 다음과 같습니다 (합의 제곱).  \n",
    "${(1 + 2 + ... + 10)^2} = {55^2} = 3025$  \n",
    "따라서 1부터 10까지 자연수에 대해 \"합의 제곱\"과 \"제곱의 합\" 의 차이는 3025 - 385 = 2640 이 됩니다.  \n",
    "그러면 1부터 100까지 자연수에 대해 \"합의 제곱\"과 \"제곱의 합\"의 차이는 얼마입니까?"
   ]
  },
  {
   "cell_type": "code",
   "execution_count": null,
   "metadata": {
    "collapsed": true
   },
   "outputs": [],
   "source": []
  }
 ],
 "metadata": {
  "kernelspec": {
   "display_name": "Python 2",
   "language": "python",
   "name": "python2"
  },
  "language_info": {
   "codemirror_mode": {
    "name": "ipython",
    "version": 2
   },
   "file_extension": ".py",
   "mimetype": "text/x-python",
   "name": "python",
   "nbconvert_exporter": "python",
   "pygments_lexer": "ipython2",
   "version": "2.7.9"
  }
 },
 "nbformat": 4,
 "nbformat_minor": 0
}
