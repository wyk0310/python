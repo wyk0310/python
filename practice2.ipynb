{
 "cells": [
  {
   "cell_type": "markdown",
   "metadata": {},
   "source": [
    "####프로젝트 오일러 문제4"
   ]
  },
  {
   "cell_type": "markdown",
   "metadata": {},
   "source": [
    "앞에서부터 읽을 때나 뒤에서부터 읽을 때나 모양이 같은 수를 대칭수(palindrome)라고 부릅니다.  \n",
    "두 자리 수를 곱해 만들 수 있는 대칭수 중 가장 큰 수는 9009 (= 91 * 99) 입니다.  \n",
    "세 자리 수를 곱해 만들 수 있는 가장 큰 대칭수는 얼마입니까?"
   ]
  },
  {
   "cell_type": "code",
   "execution_count": 5,
   "metadata": {
    "collapsed": false
   },
   "outputs": [
    {
     "name": "stdout",
     "output_type": "stream",
     "text": [
      "906609\n"
     ]
    }
   ],
   "source": [
    "result = 0\n",
    "for i in range(100, 999):\n",
    "    for j in range(100, 999):\n",
    "        tmp = i * j\n",
    "        tmp2 = i * j\n",
    "        tmp3 = 0\n",
    "        while tmp2 > 0:\n",
    "            tmp3 = tmp3 * 10\n",
    "            tmp3 = tmp3 + tmp2 % 10\n",
    "            tmp2 = tmp2 // 10\n",
    "        if tmp == tmp3:\n",
    "            if tmp > result:\n",
    "                result = tmp\n",
    "print result"
   ]
  },
  {
   "cell_type": "markdown",
   "metadata": {},
   "source": [
    "####프로젝트 오일러 문제5"
   ]
  },
  {
   "cell_type": "markdown",
   "metadata": {},
   "source": [
    "1~10 사이의 어떤 수로도 나누어 떨어지는 가장 작은 수는 2520입니다.  \n",
    "그러면 1~20 사이의 어떤 수로도 나누어 떨어지는 가장 작은 수는 얼마입니까?"
   ]
  },
  {
   "cell_type": "code",
   "execution_count": 6,
   "metadata": {
    "collapsed": false
   },
   "outputs": [
    {
     "name": "stdout",
     "output_type": "stream",
     "text": [
      "232792560\n"
     ]
    }
   ],
   "source": [
    "result = 2520 # 1~10으로 모두 나눠지는 가장 작은 수가 2520이므로 2520 부터 시작\n",
    "while True:\n",
    "    result = result + 20 # 기본적으로 2, 4, 5, 10, 20 으로 나눠짐\n",
    "    if result % 19:\n",
    "        continue\n",
    "    if result % 18:\n",
    "        continue\n",
    "    if result % 17:\n",
    "        continue\n",
    "    if result % 16:\n",
    "        continue\n",
    "    if result % 15:\n",
    "        continue\n",
    "    if result % 14:\n",
    "        continue\n",
    "    if result % 13:\n",
    "        continue\n",
    "    if result % 12:\n",
    "        continue\n",
    "    if result % 11:\n",
    "        continue\n",
    "    if result % 9:\n",
    "        continue\n",
    "    if result % 8:\n",
    "        continue\n",
    "    if result % 7:\n",
    "        continue\n",
    "    if result % 6:\n",
    "        continue\n",
    "    if result % 3:\n",
    "        continue\n",
    "    break\n",
    "print result\n",
    "    "
   ]
  },
  {
   "cell_type": "markdown",
   "metadata": {},
   "source": [
    "####프로젝트 오일러 문제 6"
   ]
  },
  {
   "cell_type": "markdown",
   "metadata": {},
   "source": [
    "1부터 10까지 자연수를 각각 제곱해 더하면 다음과 같습니다 (제곱의 합).  \n",
    "${1^2} + {2^2} + ... {10^2} = 385$  \n",
    "1부터 10을 먼저 더한 다음에 그 결과를 제곱하면 다음과 같습니다 (합의 제곱).  \n",
    "${(1 + 2 + ... + 10)^2} = {55^2} = 3025$  \n",
    "따라서 1부터 10까지 자연수에 대해 \"합의 제곱\"과 \"제곱의 합\" 의 차이는 3025 - 385 = 2640 이 됩니다.  \n",
    "그러면 1부터 100까지 자연수에 대해 \"합의 제곱\"과 \"제곱의 합\"의 차이는 얼마입니까?"
   ]
  },
  {
   "cell_type": "code",
   "execution_count": 2,
   "metadata": {
    "collapsed": false
   },
   "outputs": [
    {
     "name": "stdout",
     "output_type": "stream",
     "text": [
      "25502500 338350 25164150\n"
     ]
    }
   ],
   "source": [
    "import math\n",
    "\n",
    "\n",
    "squareOfSum = 0\n",
    "sumOfSquare = 0\n",
    "\n",
    "squareOfSum = pow(sum(range(1,101)), 2)\n",
    "for i in range(1, 101):\n",
    "    sumOfSquare = sumOfSquare + pow(i, 2)\n",
    "print squareOfSum, sumOfSquare, squareOfSum - sumOfSquare"
   ]
  },
  {
   "cell_type": "markdown",
   "metadata": {},
   "source": [
    "####프로젝트 오일러 문제 7"
   ]
  },
  {
   "cell_type": "markdown",
   "metadata": {},
   "source": [
    "소수를 크기 순으로 나열하면 2, 3, 5, 7, 11, 13, ... 과 같이 됩니다.  \n",
    "이 때 10,001번째 소수를 구하세요."
   ]
  },
  {
   "cell_type": "code",
   "execution_count": null,
   "metadata": {
    "collapsed": false
   },
   "outputs": [],
   "source": [
    "import math\n",
    "\n",
    "index = 5\n",
    "number = 11\n",
    "\n",
    "while True:\n",
    "    number = number + 2\n",
    "    i = 3\n",
    "    while True:\n",
    "        if i+1 == number:\n",
    "            index = index + 1\n",
    "            break\n",
    "        elif number % i == 0:\n",
    "            break\n",
    "        i = i + 2\n",
    "    if index == 10:\n",
    "        break\n",
    "print number"
   ]
  },
  {
   "cell_type": "code",
   "execution_count": 1,
   "metadata": {
    "collapsed": false
   },
   "outputs": [
    {
     "name": "stdout",
     "output_type": "stream",
     "text": [
      "100 541\n",
      "200 1223\n",
      "300 1987\n",
      "400 2741\n",
      "500 3571\n",
      "600 4409\n",
      "700 5279\n",
      "800 6133\n",
      "900 6997\n",
      "1000 7919\n",
      "1100 8831\n",
      "1200 9733\n",
      "1300 10657\n",
      "1400 11657\n",
      "1500 12553\n",
      "1600 13499\n",
      "1700 14519\n",
      "1800 15401\n",
      "1900 16381\n",
      "2000 17389\n",
      "2100 18313\n",
      "2200 19423\n",
      "2300 20357\n",
      "2400 21383\n",
      "2500 22307\n",
      "2600 23321\n",
      "2700 24281\n",
      "2800 25391\n",
      "2900 26399\n",
      "3000 27449\n",
      "3100 28499\n",
      "3200 29443\n",
      "3300 30559\n",
      "3400 31601\n",
      "3500 32609\n",
      "3600 33613\n",
      "3700 34649\n",
      "3800 35759\n",
      "3900 36781\n",
      "4000 37813\n",
      "4100 38921\n",
      "4200 39971\n",
      "4300 41081\n",
      "4400 42073\n",
      "4500 43051\n",
      "4600 44201\n",
      "4700 45307\n",
      "4800 46447\n",
      "4900 47527\n",
      "5000 48611\n",
      "5100 49663\n",
      "5200 50753\n",
      "5300 51803\n",
      "5400 52919\n",
      "5500 53993\n",
      "5600 55103\n",
      "5700 56179\n",
      "5800 57191\n",
      "5900 58237\n",
      "6000 59359\n",
      "6100 60497\n",
      "6200 61631\n",
      "6300 62773\n",
      "6400 63809\n",
      "6500 65063\n",
      "6600 66103\n",
      "6700 67231\n",
      "6800 68371\n",
      "6900 69493\n",
      "7000 70657\n",
      "7100 71713\n",
      "7200 72823\n",
      "7300 73973\n",
      "7400 75079\n",
      "7500 76207\n",
      "7600 77351\n",
      "7700 78479\n",
      "7800 79621\n",
      "7900 80713\n",
      "8000 81799\n",
      "8100 82891\n",
      "8200 84127\n",
      "8300 85237\n",
      "8400 86371\n",
      "8500 87553\n",
      "8600 88801\n",
      "8700 89849\n",
      "8800 90977\n",
      "8900 92173\n",
      "9000 93179\n",
      "9100 94349\n",
      "9200 95441\n",
      "9300 96581\n",
      "9400 97813\n",
      "9500 98947\n",
      "9600 100109\n",
      "9700 101281\n",
      "9800 102317\n",
      "9900 103591\n",
      "10000 104729\n",
      "104743\n"
     ]
    }
   ],
   "source": [
    "import math\n",
    "\n",
    "index = 5\n",
    "number = 11\n",
    "\n",
    "while True:\n",
    "    number = number + 2\n",
    "    for i in range(3, number):\n",
    "        if number % i == 0:\n",
    "            break\n",
    "        elif i+1 == number:\n",
    "            index = index + 1\n",
    "            if index % 100 == 0:\n",
    "                print index, number\n",
    "    \n",
    "    if index == 10001:\n",
    "        break\n",
    "        \n",
    "print number"
   ]
  },
  {
   "cell_type": "markdown",
   "metadata": {},
   "source": [
    "####프로젝트 오일러 8"
   ]
  },
  {
   "cell_type": "markdown",
   "metadata": {},
   "source": [
    "다음은 연속된 1000자리 숫자입니다.  \n",
    "73167176531330624919225119674426574742355349194934\n",
    "96983520312774506326239578318016984801869478851843\n",
    "85861560789112949495459501737958331952853208805511\n",
    "12540698747158523863050715693290963295227443043557\n",
    "66896648950445244523161731856403098711121722383113\n",
    "62229893423380308135336276614282806444486645238749\n",
    "30358907296290491560440772390713810515859307960866\n",
    "70172427121883998797908792274921901699720888093776\n",
    "65727333001053367881220235421809751254540594752243\n",
    "52584907711670556013604839586446706324415722155397\n",
    "53697817977846174064955149290862569321978468622482\n",
    "83972241375657056057490261407972968652414535100474\n",
    "82166370484403199890008895243450658541227588666881\n",
    "16427171479924442928230863465674813919123162824586\n",
    "17866458359124566529476545682848912883142607690042\n",
    "24219022671055626321111109370544217506941658960408\n",
    "07198403850962455444362981230987879927244284909188\n",
    "84580156166097919133875499200524063689912560717606\n",
    "05886116467109405077541002256983155200055935729725\n",
    "71636269561882670428252483600823257530420752963450\n",
    "\n",
    "여기서 붉게 표시된 71112의 경우 7, 1, 1, 1, 2 각 숫자를 곱하면 14가 됩니다.  \n",
    "  \n",
    "이런 식으로 맨 처음 (7 * 3 * 1 * 6 * 7 = 882) 부터 맨 끝 (6 * 3 * 4 * 5 * 0 = 0) 까지 5자리 숫자들의 곱을 구할 수 있습니다.  \n",
    "  \n",
    "이렇게 구할 수 있는 5자리 숫자의 곱 중에서 가장 큰 값은 얼마입니까?\n"
   ]
  },
  {
   "cell_type": "code",
   "execution_count": null,
   "metadata": {
    "collapsed": true
   },
   "outputs": [],
   "source": []
  }
 ],
 "metadata": {
  "kernelspec": {
   "display_name": "Python 2",
   "language": "python",
   "name": "python2"
  },
  "language_info": {
   "codemirror_mode": {
    "name": "ipython",
    "version": 2
   },
   "file_extension": ".py",
   "mimetype": "text/x-python",
   "name": "python",
   "nbconvert_exporter": "python",
   "pygments_lexer": "ipython2",
   "version": "2.7.9"
  }
 },
 "nbformat": 4,
 "nbformat_minor": 0
}
