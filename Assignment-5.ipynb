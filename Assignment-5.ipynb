{
 "cells": [
  {
   "cell_type": "markdown",
   "metadata": {},
   "source": [
    "#Assignment 5"
   ]
  },
  {
   "cell_type": "markdown",
   "metadata": {},
   "source": [
    "스크립트 프로그래밍 02분반  \n",
    "학번 : 2011136073  \n",
    "이름 : 우용근"
   ]
  },
  {
   "cell_type": "markdown",
   "metadata": {},
   "source": [
    "[1번 문제]  \n",
    "클래스와 모듈의 공통점과 차이점에 대해 설명하시오."
   ]
  },
  {
   "cell_type": "markdown",
   "metadata": {},
   "source": [
    "공통점 : 재사용을 목적으로 사용  \n",
    "차이점 : 모듈은 바이트코드로 미리 컴파일 된 .pyc로도 사용 되며 클래스들의 모음으로도 사용이 가능."
   ]
  },
  {
   "cell_type": "markdown",
   "metadata": {},
   "source": [
    "[2번 문제]  \n",
    "다형성에 대해 설명하고 다형성을 보여주는 자신만의 파이썬 코드 예제를 제시하시오."
   ]
  },
  {
   "cell_type": "markdown",
   "metadata": {},
   "source": [
    "다형성 : 상속 관계 내의 다른 클래스들의 인스턴스들이 같은 멤버 함수 호출에 대해 각각 다르게 반응하도록 하는 기능. 적은 코딩으로 다양한 객체에게 유사한 작업을 시킬수 있다."
   ]
  },
  {
   "cell_type": "code",
   "execution_count": 3,
   "metadata": {
    "collapsed": false
   },
   "outputs": [
    {
     "name": "stdout",
     "output_type": "stream",
     "text": [
      "130\n",
      "150\n",
      "180\n"
     ]
    }
   ],
   "source": [
    "class Car:\n",
    "    def MaxSpeed(self):\n",
    "        print 200\n",
    "class k3(Car):\n",
    "    def MaxSpeed(self):\n",
    "        print 130\n",
    "class k5(Car):\n",
    "    def MaxSpeed(self):\n",
    "        print 150\n",
    "class k9(Car):\n",
    "    def MaxSpeed(self):\n",
    "        print 180\n",
    "\n",
    "k3_1 = k3()\n",
    "k5_1 = k5()\n",
    "k9_1 = k9()\n",
    "\n",
    "k3_1.MaxSpeed()\n",
    "k5_1.MaxSpeed()\n",
    "k9_1.MaxSpeed()\n"
   ]
  },
  {
   "cell_type": "markdown",
   "metadata": {
    "collapsed": true
   },
   "source": [
    "[3번 문제]  \n",
    "다음 각 요구사항 모두를 만족시키는 Counter 클래스를 코딩하시오 (정답을 각 요구사항별로 입력할 필요 없이 3번 문제에 대해 1개의 클래스 정의 코드를 제시하면 된다.)  \n",
    "- 요구사항 1. 생성자에 count 값과 step 값을 인자로 받을 수 있다.  \n",
    "    - count : Counter 인스턴스가 지니는 초기 정수 값\n",
    "    - step: Counter 인스턴스의 count가 증가되는 증분 (default 값 : 1)  \n",
    "        > \\>>> c = Counter(10)  \n",
    "        > \\>>> d = Counter(10, 2)\n",
    "- 요구사항 2. 다음과 같이 Counter의 인스턴스를 출력해주는 __str__() 메소드를 Counter 클래스 내에 구현하시오\n",
    "    > \\>>> print c  \n",
    "    > [Count (step: 1)] 10  \n",
    "    > \\>>> print d  \n",
    "    > [Count (step: 2)] 10  \n",
    "- 요구사항 3. 다음과 같이 step에 주어진 증분만큼 count를 증가시키는 incr() 메소드를 Counter 클래스 내에 구현하시오.\n",
    "    > \\>>> c.incr()  \n",
    "    > \\>>> d.incr()  \n",
    "    > \\>>> print c  \n",
    "    > [Count (step: 1)] 11  \n",
    "    > \\>>> print d  \n",
    "    > [Count (step: 2)] 12  \n",
    "- 요구사항 4. Counter 클래스 내에 관련 메소드를 추가하여 인스턴스 객체를 직접 호출(call)할 수 있도록 하시오. 인스턴스 객체를 직접 호출했을 때에 내부적으로 incr() 메소드를 호출하는 방법으로 구현하시오.\n",
    "    > \\>>> c()  \n",
    "    > \\>>> d()  \n",
    "    > \\>>> print c  \n",
    "    > [Count (step: 1)] 12  \n",
    "    > \\>>> print d  \n",
    "    > [Count (step: 2)] 14  \n",
    "- 요구사항 5. 다음과 같이 두 개의 산술 연산 (+, -)이 수행될 수 있도록 Counter 클래스내에 관련 메소드를 추가하시오.  \n",
    "    > \\>>> c = c + 5  \n",
    "    > \\>>> d = d - 5  \n",
    "    > \\>>> print c  \n",
    "    > [Count (step: 1)] 17  \n",
    "    > \\>>> print d  \n",
    "    > [Count (step: 2)] 9  \n",
    "- 요구사항 6. 다음과 같은 관계연산 (>, <, ==)이 수행될 수 있도록 Counter 클래스 내에 관련 메소드를 추가하시오.  \n",
    "    > \\>>> print c > 10  \n",
    "    > True  \n",
    "    > \\>>> print d > 10  \n",
    "    > False  \n",
    "    > \\>>> print c < 10  \n",
    "    > False  \n",
    "    > \\>>> print d < 10  \n",
    "    > True  \n",
    "    > \\>>> print c == 17  \n",
    "    > True  \n",
    "    > \\>>> print d != 9  \n",
    "    > False\n",
    "    \n",
    "    "
   ]
  },
  {
   "cell_type": "code",
   "execution_count": 29,
   "metadata": {
    "collapsed": false
   },
   "outputs": [],
   "source": [
    "class Counter:\n",
    "    def __init__(self, count, step = 1):\n",
    "        self.count = count\n",
    "        self.step = step\n",
    "    def __str__(self):\n",
    "        return '[Count (step: %d)] %d'%(self.step, self.count)\n",
    "    def incr(self):\n",
    "        self.count += self.step\n",
    "    def __call__(self):\n",
    "        self.incr()\n",
    "        return\n",
    "    def __add__(self, a):\n",
    "        return self.count + a\n",
    "    def __sub__(self, a):\n",
    "        return self.count - a\n",
    "    def __lt__(self, a):\n",
    "        return self.count < a\n",
    "    def __gt__(self, a):\n",
    "        return self.count > a\n",
    "    def __eq__(self, a):\n",
    "        return self.count == a"
   ]
  },
  {
   "cell_type": "markdown",
   "metadata": {},
   "source": [
    "[4번 문제]  \n",
    "다음은 내장 자료형 list를 서브클래싱하여 만든 MySet 클래스 정의 내용이다. 다음 클래스 정의에서 __init__(), __str__(), elimicate_duplicate()의 세 개의 메소드 코드 내용을 자신이 다른 사람에게 가르친다고 생각하며 설명해보시오.  \n",
    "    - MySet은 집합(Set) 자료형을 정의하려는 의도하에 만들어진 클래스이다."
   ]
  },
  {
   "cell_type": "code",
   "execution_count": 30,
   "metadata": {
    "collapsed": false
   },
   "outputs": [
    {
     "name": "stdout",
     "output_type": "stream",
     "text": [
      "MySet: {1 ,2 ,3}\n",
      "MySet: {2 ,3 ,4 ,5 ,6 ,7 ,8 ,9}\n"
     ]
    }
   ],
   "source": [
    "class MySet(list):\n",
    "    def __init__(self, l):\n",
    "        for e in l:\n",
    "            self.append(e)\n",
    "        MySet.eliminate_duplicate(self)\n",
    "    \n",
    "    def __str__(self):\n",
    "        result = \"MySet: {\"\n",
    "        for e in self:\n",
    "            result = result + str(e) + \" ,\"\n",
    "        result = result[0:len(result)-2] + \"}\"\n",
    "        return result\n",
    "\n",
    "    @staticmethod    \n",
    "    def eliminate_duplicate(l):\n",
    "        s = []\n",
    "        for e in l:\n",
    "            if e not in s:\n",
    "                s.append(e)\n",
    "        l[:] = []\n",
    "        for e in s:\n",
    "            l.append(e)\n",
    "\n",
    "    \n",
    "if __name__ == \"__main__\":\n",
    "    s = MySet([1, 2, 2, 3])\n",
    "    print s\n",
    "    t = MySet([2, 3, 4, 5, 6, 7, 8, 8, 8, 8, 8, 9])\n",
    "    print t"
   ]
  },
  {
   "cell_type": "markdown",
   "metadata": {},
   "source": [
    "init()은 C++, Java에서 생성자에 해당하는 코드이며, 반복자형의 l을 인자로 받아서 list를 상속받아 만들어진 MySet 객체에 하나씩 추가하고 eliminate_duplicate함수를 부른다.  \n",
    "str()은 비공식출력코드로 객체 안에 있는 리스트를 전부 출력해주는 코드이다.  \n",
    "eliminate_duplicate는 리스트를 받아서 중복된 원소를 제외하고 만들어지는 새로운 리스트를 반환한다."
   ]
  },
  {
   "cell_type": "code",
   "execution_count": null,
   "metadata": {
    "collapsed": true
   },
   "outputs": [],
   "source": []
  }
 ],
 "metadata": {
  "kernelspec": {
   "display_name": "Python 2",
   "language": "python",
   "name": "python2"
  },
  "language_info": {
   "codemirror_mode": {
    "name": "ipython",
    "version": 2
   },
   "file_extension": ".py",
   "mimetype": "text/x-python",
   "name": "python",
   "nbconvert_exporter": "python",
   "pygments_lexer": "ipython2",
   "version": "2.7.9"
  }
 },
 "nbformat": 4,
 "nbformat_minor": 0
}
