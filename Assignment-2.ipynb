{
 "cells": [
  {
   "cell_type": "markdown",
   "metadata": {},
   "source": [
    "#Assignment 2"
   ]
  },
  {
   "cell_type": "markdown",
   "metadata": {},
   "source": [
    "#####Script Programming 2분반 과제 2"
   ]
  },
  {
   "cell_type": "markdown",
   "metadata": {},
   "source": [
    "학번 : 2011136073  \n",
    "이름 : 우용근"
   ]
  },
  {
   "cell_type": "markdown",
   "metadata": {},
   "source": [
    "* (1) 다음 6개의 Expression에 대해 Evaluation 결과 값을 출력하고, 해당 결과가 나온 이유에 대해 설명하시오\n",
    "    * 1 and 2 and 3 and 4\n",
    "    * 1 or 2 or 3 or 4\n",
    "    * 1 and 2 or 3 and 4\n",
    "    * (1 and 2) or (3 and 4)\n",
    "    * 1 or 2 and 3 or 4\n",
    "    * (1 or 2) and (3 or 4)"
   ]
  },
  {
   "cell_type": "code",
   "execution_count": 1,
   "metadata": {
    "collapsed": false
   },
   "outputs": [
    {
     "name": "stdout",
     "output_type": "stream",
     "text": [
      "4\n",
      "1\n",
      "2\n",
      "2\n",
      "1\n",
      "3\n"
     ]
    }
   ],
   "source": [
    "print 1 and 2 and 3 and 4\n",
    "print 1 or 2 or 3 or 4\n",
    "print 1 and 2 or 3 and 4\n",
    "print (1 and 2) or (3 and 4)\n",
    "print 1 or 2 and 3 or 4\n",
    "print (1 or 2) and (3 or 4)"
   ]
  },
  {
   "cell_type": "markdown",
   "metadata": {},
   "source": [
    "설명  \n",
    "and 연산은 첫 피연산자가 False면 첫 피연산자를 반환하고 True면 뒷 피연산자를 반환  \n",
    "or 연산은 첫 피연산자가 True면 첫 피연산자를 반환하고 False면 뒷 피연산자를 반환\n",
    "- 1 and 2 and 3 and 4  \n",
    " = (1 and 2) and 3 and 4  \n",
    " = (2 and 3) and 4  \n",
    " = 3 and 4  \n",
    " = 4  \n",
    "- 1 or 2 or 3 or 4  \n",
    " = (1 or 2) or 3 or 4  \n",
    " = 1  \n",
    "- 1 and 2 or 3 and 4  \n",
    " = (1 and 2) or 3 and 4  \n",
    " = (2 or 3) and 4  \n",
    " = 2  \n",
    "- (1 and 2) or (3 and 4)  \n",
    " = 2 or 4  \n",
    " = 2  \n",
    "- 1 or 2 and 3 or 4  \n",
    " = (1 or 2) and 3 or 4  \n",
    " = 1  \n",
    "- (1 or 2) and (3 or 4)  \n",
    " = 1 and 3  \n",
    " = 3  "
   ]
  },
  {
   "cell_type": "markdown",
   "metadata": {},
   "source": [
    "----------------------------------------------------------------------"
   ]
  },
  {
   "cell_type": "markdown",
   "metadata": {},
   "source": [
    "* (2) 키보드로 정수값을 입력 받고 그 값이 양수인지 음수인지를 비트 연산자를 이용하여 판단 하는 프로그램을 작성하시오.\n",
    "    * [참고] 가장 왼쪽에 있는 비트가 0이면 양수이며, 1이면 음수이다."
   ]
  },
  {
   "cell_type": "code",
   "execution_count": 2,
   "metadata": {
    "collapsed": false
   },
   "outputs": [
    {
     "name": "stdout",
     "output_type": "stream",
     "text": [
      "-110\n",
      "음수\n"
     ]
    }
   ],
   "source": [
    "import math\n",
    "a = input()\n",
    "tmp = a.bit_length()\n",
    "a = a >> tmp\n",
    "if a:\n",
    "    print u\"음수\"\n",
    "else:\n",
    "    print u\"양수\""
   ]
  },
  {
   "cell_type": "markdown",
   "metadata": {},
   "source": [
    "특이사항 : 0은 양수로 처리하였습니다."
   ]
  },
  {
   "cell_type": "markdown",
   "metadata": {},
   "source": [
    "---------------------------------------------------------------------------"
   ]
  },
  {
   "cell_type": "markdown",
   "metadata": {},
   "source": [
    "* (3) 경로에 해당하는 문자열 1개를 입력 받아 그 안에 디렉토리 경로명과 파일명을 분리하여 리스트로 반환하는 함수 div_path(s)를 작성하시오.  \n",
    "    * 인자로 전달하는 문자열은 경로만 들어간다고 가정한다.  \n",
    "    * 각 디렉토리와 파일을 구분하는 문자는 '/' 로 가정한다.  \n",
    "    * 반환하는 리스트의 첫번째 원소는 디렉토리이고 두번째 원소는 파일명이다.  \n",
    "    * 다음과 같은 실행 및 출력결과가 도출되어야 한다.  \n",
    "         * div_path('/usr/local/bin/python')  \n",
    "             * ['/usr/local/bin', 'python']\n",
    "         * div_path('/home/chulsoo/test.txt')  \n",
    "             * ['/home/chulsoo', test.txt']\n",
    "    * [참고] 리스트(l) 내에 새로운 정수값 (예를 들어 10) 을 넣는 방법은 l.append(10)이다.  "
   ]
  },
  {
   "cell_type": "code",
   "execution_count": 3,
   "metadata": {
    "collapsed": false
   },
   "outputs": [
    {
     "name": "stdout",
     "output_type": "stream",
     "text": [
      "['/usr/local/bin', 'python']\n",
      "경로를 입력해주세요 : /home/chulsoo/test.txt\n",
      "['/home/chulsoo', 'test.txt']\n"
     ]
    }
   ],
   "source": [
    "def div_path(a):\n",
    "    i = len(a)\n",
    "    k = ''\n",
    "    while True:\n",
    "        if a[i-1]=='/':\n",
    "            a = a[:i-1]\n",
    "            break\n",
    "        else:\n",
    "            k = a[i-1] + k\n",
    "            i = i - 1\n",
    "    l = []\n",
    "    l.append(a)\n",
    "    l.append(k)\n",
    "    return l\n",
    "\n",
    "val = '/usr/local/bin/python'\n",
    "print div_path(val)\n",
    "val = raw_input(u\"경로를 입력해주세요 : \")\n",
    "print div_path(val)"
   ]
  },
  {
   "cell_type": "markdown",
   "metadata": {},
   "source": [
    "설명  \n",
    "문자열을 뒤에서부터 읽으면서 첫 / 문자를 찾을때까지 읽은 후  \n",
    "읽은 부분은 파일명으로  \n",
    "읽지 않은 부분은 경로명으로 처리하여  \n",
    "해결하였습니다."
   ]
  },
  {
   "cell_type": "markdown",
   "metadata": {},
   "source": [
    "---------------------------------------------------------------------------"
   ]
  },
  {
   "cell_type": "markdown",
   "metadata": {},
   "source": [
    "* (4) 두 개의 리스트를 인자로 받아서 그 두 개의 리스트에 대한 '합집합'을 반환하는 함수 list_union(lista, listb)를 작성하시오.  \n",
    "    * 인자로 전달하는 리스트 2개에는 정수값만 들어간다고 가정하자.  \n",
    "    * 함수 내에서 새로운 리스트를 만들어 그 리스트 내에 인자로 받은 두 리스트의 모든 원소를 넣어 반환한다.  \n",
    "    * 반환하는 리스트에는 절대로 중복된 원소가 들어 있으면 안된다 (집합의 조건).  \n",
    "    * 반환하는 리스트는 정렬이 되어 있어야 한다.  \n",
    "    * 다음과 같은 실행 및 출력 결과가 도출 되어야 한다.  \n",
    "        * list_union([1, 2, 3], [1, 2, 4])  \n",
    "            * [1, 2, 3, 4]  \n",
    "        * list_union([-10, -5, 0, -1], [100, 9, 0, 9])  \n",
    "            * [-10, -5, -1, 0, 9, 100]  \n",
    "        * list_union([0, 1, 2], [0, 1, 2])  \n",
    "            * [0, 1, 2]"
   ]
  },
  {
   "cell_type": "code",
   "execution_count": 4,
   "metadata": {
    "collapsed": false
   },
   "outputs": [
    {
     "name": "stdout",
     "output_type": "stream",
     "text": [
      "[1, 2, 3, 4]\n",
      "[-10, -5, -1, 0, 9, 100]\n",
      "[0, 1, 2]\n"
     ]
    }
   ],
   "source": [
    "def list_union(a, b):\n",
    "    result = []\n",
    "    i = 0\n",
    "    while i < len(a):\n",
    "        result.append(a[i])\n",
    "        i = i + 1\n",
    "    i = 0\n",
    "    while i < len(b):\n",
    "        result.append(b[i])\n",
    "        i = i + 1\n",
    "    result.sort()\n",
    "    i = 0\n",
    "    k = 1\n",
    "    while k:\n",
    "        if (i + 1) == len(result):\n",
    "            break\n",
    "        else:\n",
    "            j = i + 1\n",
    "            while True:\n",
    "                if j == len(result):\n",
    "                    break\n",
    "                else:\n",
    "                    if result[i]==result[j]:\n",
    "                        del result[j]\n",
    "                        if j == len(result):\n",
    "                            k = 0\n",
    "                    elif result[i] < result[j]:\n",
    "                        break\n",
    "                    else:\n",
    "                        j = j + 1\n",
    "        i = i + 1\n",
    "                    \n",
    "    return result\n",
    "\n",
    "\n",
    "print list_union([1, 2, 3], [1, 2, 4])\n",
    "print list_union([-10, -5, 0, -1], [100, 9, 0, 9])\n",
    "print list_union([0, 1, 2], [0, 1, 2])"
   ]
  },
  {
   "cell_type": "markdown",
   "metadata": {},
   "source": [
    "설명 : 일단 리스트를 합치고 중복되는 부분을 찾아서 제거하는 방법으로 해결 하였습니다."
   ]
  },
  {
   "cell_type": "markdown",
   "metadata": {},
   "source": [
    "---------------------------------------------------------------------------"
   ]
  },
  {
   "cell_type": "markdown",
   "metadata": {},
   "source": [
    "* (5) [프로젝트 오일러 문제 4]\n",
    "    * 앞에서부터 읽을 때나 뒤에서부터 읽을 때나 모양이 같은 수를 대칭수(palindrome)라고 부릅니다.  \n",
    "    두 자리 수를 곱해 만들 수 있는 대칭수 중 가장 큰 수는 9009 (= 91 * 99) 입니다.  \n",
    "    세 자리 수를 곱해 만들 수 있는 가장 큰 대칭수는 얼마입니까?"
   ]
  },
  {
   "cell_type": "code",
   "execution_count": 5,
   "metadata": {
    "collapsed": false
   },
   "outputs": [
    {
     "name": "stdout",
     "output_type": "stream",
     "text": [
      "906609\n"
     ]
    }
   ],
   "source": [
    "result = 0\n",
    "for i in range(100, 999):\n",
    "    for j in range(100, 999):\n",
    "        tmp = i * j      #비교원본\n",
    "        tmp2 = i * j     #수정할 녀석\n",
    "        tmp3 = 0         #원본과 비교할 녀석\n",
    "        while tmp2 > 0:  #숫자를 뒤집는 작업\n",
    "            tmp3 = tmp3 * 10\n",
    "            tmp3 = tmp3 + tmp2 % 10\n",
    "            tmp2 = tmp2 // 10\n",
    "        if tmp == tmp3:         #대칭수를 찾았을 때\n",
    "            if tmp > result:    #기존에 찾았던 대칭수 보다 크다면 우리가 찾는 답\n",
    "                result = tmp\n",
    "print result"
   ]
  },
  {
   "cell_type": "markdown",
   "metadata": {},
   "source": [
    "설명 : 그냥 무식하게 전부 구해 보았습니다."
   ]
  },
  {
   "cell_type": "markdown",
   "metadata": {},
   "source": [
    "---"
   ]
  },
  {
   "cell_type": "markdown",
   "metadata": {},
   "source": [
    "* (6) [프로젝트 오일러 문제 5]  \n",
    "    * 1~10 사이의 어떤 수로도 나누어 떨어지는 가장 작은 수는 2520입니다.  \n",
    "그러면 1~20 사이의 어떤 수로도 나누어 떨어지는 가장 작은 수는 얼마입니까?"
   ]
  },
  {
   "cell_type": "code",
   "execution_count": 6,
   "metadata": {
    "collapsed": false
   },
   "outputs": [
    {
     "name": "stdout",
     "output_type": "stream",
     "text": [
      "232792560\n"
     ]
    }
   ],
   "source": [
    "result = 2520 # 1~10으로 모두 나눠지는 가장 작은 수가 2520이므로 2520 부터 시작\n",
    "while True:\n",
    "    result = result + 20 # 기본적으로 1, 2, 4, 5, 10, 20 으로 나눠짐\n",
    "    if result % 19:\n",
    "        continue\n",
    "    if result % 18:\n",
    "        continue\n",
    "    if result % 17:\n",
    "        continue\n",
    "    if result % 16:\n",
    "        continue\n",
    "    if result % 15:\n",
    "        continue\n",
    "    if result % 14:\n",
    "        continue\n",
    "    if result % 13:\n",
    "        continue\n",
    "    if result % 12:\n",
    "        continue\n",
    "    if result % 11:\n",
    "        continue\n",
    "    if result % 9:\n",
    "        continue\n",
    "    if result % 8:\n",
    "        continue\n",
    "    if result % 7:\n",
    "        continue\n",
    "    if result % 6:\n",
    "        continue\n",
    "    if result % 3:\n",
    "        continue\n",
    "    break\n",
    "print result"
   ]
  },
  {
   "cell_type": "markdown",
   "metadata": {},
   "source": [
    "설명  \n",
    "19로 나누어지는 수가 개체수가 제일 적다고 생각하여 제일 먼저 19부터 비교를 하였습니다.  \n"
   ]
  },
  {
   "cell_type": "markdown",
   "metadata": {},
   "source": [
    "---"
   ]
  },
  {
   "cell_type": "markdown",
   "metadata": {},
   "source": [
    "* (7) [프로젝트 오일러 문제 6]  \n",
    "    * 1부터 10까지 자연수를 각각 제곱해 더하면 다음과 같습니다 (제곱의 합).  \n",
    "${1^2} + {2^2} + ... {10^2} = 385$  \n",
    "1부터 10을 먼저 더한 다음에 그 결과를 제곱하면 다음과 같습니다 (합의 제곱).  \n",
    "${(1 + 2 + ... + 10)^2} = {55^2} = 3025$  \n",
    "따라서 1부터 10까지 자연수에 대해 \"합의 제곱\"과 \"제곱의 합\" 의 차이는 3025 - 385 = 2640 이 됩니다.  \n",
    "그러면 1부터 100까지 자연수에 대해 \"합의 제곱\"과 \"제곱의 합\"의 차이는 얼마입니까?"
   ]
  },
  {
   "cell_type": "code",
   "execution_count": 7,
   "metadata": {
    "collapsed": false
   },
   "outputs": [
    {
     "name": "stdout",
     "output_type": "stream",
     "text": [
      "합의 제곱 :  25502500\n",
      "제곱의 합 :  338350\n",
      "답 :  25164150\n"
     ]
    }
   ],
   "source": [
    "import math\n",
    "\n",
    "\n",
    "squareOfSum = 0\n",
    "sumOfSquare = 0\n",
    "\n",
    "squareOfSum = pow(sum(range(1,101)), 2)\n",
    "for i in range(1, 101):\n",
    "    sumOfSquare = sumOfSquare + pow(i, 2)\n",
    "print \"합의 제곱 : \",\n",
    "print squareOfSum\n",
    "print \"제곱의 합 : \",\n",
    "print sumOfSquare\n",
    "print \"답 : \",\n",
    "print squareOfSum - sumOfSquare"
   ]
  },
  {
   "cell_type": "markdown",
   "metadata": {},
   "source": [
    "---"
   ]
  },
  {
   "cell_type": "markdown",
   "metadata": {},
   "source": [
    "* [InCremental Project] 웹 URL로 지정된 웹페이지를 문자열로 가져와  \n",
    "1) 모든 HTML 태그를 제외한 순수 텍스트 문자열만을 걸러내고,  \n",
    "2) 그 순수 텍스트 문자열 안에 존재하는 단어가 총 몇개인지 출력하는 프로그램을 작성하시오.  \n",
    "    * HTML 태그는 다음 조건을 가지는 것이다.  \n",
    "        * <로 시작하여 >로 끝난다.\n",
    "        * 예를 들어, 아래와 같은 HTML 내용 내에 한 줄이 있다고 가정하자.  \n",
    "        <label for=\"keep_signed\">로그인 유지</label>\n",
    "        * 위 소스에서 HTML 태그를 제외한 순수 텍스트 문자열은 아래와 같다.\n",
    "        로그인 유지\n",
    "        * 한편, 아래와 같은 HTML 한 줄이 있다고 가정하자.\n",
    "        <link rel=\"stylesheet\" href=\"/common/css/xe.min.css?20150910092654\" />\n",
    "        * 위 소스는 HTML 태그로만 구성된 것이며 걸러낼 수 있는 순수 텍스트 문자열은 존재하지 않는다.  \n",
    "    * 단어를 나누는 기준은 오로지 공백문자(whitespace)이다.\n",
    "        * 즉, 위 순수 텍스트 문자열인 \"로그인 유지\"에서 분리한 단어는 \"로그인\"과 \"유지\" 이다.\n",
    "    * 다음은 URL로 지정된 웹페이지를 특정 문자열로 가져오는 코드이다.\n",
    "        * 즉, 숙제코드는 아래 코드로 부터 시작해야 한다."
   ]
  },
  {
   "cell_type": "code",
   "execution_count": 8,
   "metadata": {
    "collapsed": false
   },
   "outputs": [
    {
     "name": "stdout",
     "output_type": "stream",
     "text": [
      "http://cse.kut.ac.kr/ 페이지의 단어의 총 갯수는 : 455 개\n"
     ]
    }
   ],
   "source": [
    "import urllib2\n",
    "source = urllib2.urlopen(\"http://cse.kut.ac.kr/\").read()\n",
    "src_max = len(source)\n",
    "i = 0\n",
    "mode = True\n",
    "result = []\n",
    "tmp = \"\"\n",
    "res_string = []\n",
    "while i+1 < src_max:\n",
    "    if source[i] == '<':\n",
    "        mode = False           #태그가 시작되면 문자를 저장하지 않음\n",
    "        result.append(tmp)     #지금까지 저장한 글자들을 result 리스트에 저장\n",
    "        tmp=\"\"                 #버퍼 비움\n",
    "    elif source[i] == '>':\n",
    "        mode = True            #태그가 끝났으므로 문자를 저장할 준비를 함\n",
    "    elif mode:\n",
    "        tmp += source[i]       #현재 문자를 저장해야할 시점이므로 버퍼에 저장\n",
    "    i = i + 1       #다음 글자로 이동\n",
    "for i in range(0, len(result)):\n",
    "    result[i] = result[i].split()    #공백을 split으로 없앰\n",
    "for i in range(0, len(result)):\n",
    "    for j in range(0, len(result[i])):\n",
    "        res_string.append(result[i][j])\n",
    "        #split으로 쪼갠 단어들은 이차원 리스트에 존재하므로 하나하나 다시 뽑아냄\n",
    "        #이차원 원소는 현재 모두 유효한 값만을 지니고 있음\n",
    "print \"http://cse.kut.ac.kr/ 페이지의\",\n",
    "print \"단어의 총 갯수는 :\",\n",
    "print len(res_string),\n",
    "print \"개\""
   ]
  },
  {
   "cell_type": "markdown",
   "metadata": {},
   "source": [
    "##과제를 끝낸 후 소감\n",
    "과제를 하면서 Markdown Cell 기입 하는게 너무 번거롭습니다.  \n",
    "꼭 필요한 설명이 아니면 간단한 주석등으로 대체해서 제출하긴 합니다만\n",
    "답은 맞는데 아래에 Markdown Cell으로 설명이 부족하다고 감점 되는 경우는 없었으면 합니다."
   ]
  },
  {
   "cell_type": "markdown",
   "metadata": {},
   "source": [
    "아래 소스는 받은 문자열들을 출력하는 소스입니다.  \n",
    "(너무 길어서 아래에 따로 첨부하였습니다)"
   ]
  },
  {
   "cell_type": "code",
   "execution_count": 9,
   "metadata": {
    "collapsed": false
   },
   "outputs": [
    {
     "name": "stdout",
     "output_type": "stream",
     "text": [
      "컴퓨터공학부\n",
      "//\n",
      "Schoolfun\n",
      "-\n",
      "Study\n",
      "and\n",
      "Fun\n",
      "--\n",
      "로그인\n",
      "로그인\n",
      "아이디\n",
      "비밀번호\n",
      "로그인\n",
      "유지\n",
      "브라우저를\n",
      "닫더라도\n",
      "로그인이\n",
      "계속\n",
      "유지될\n",
      "수\n",
      "있습니다.\n",
      "로그인\n",
      "유지\n",
      "기능을\n",
      "사용할\n",
      "경우\n",
      "다음\n",
      "접속부터는\n",
      "로그인할\n",
      "필요가\n",
      "없습니다.\n",
      "단,\n",
      "게임방,\n",
      "학교\n",
      "등\n",
      "공공장소에서\n",
      "이용\n",
      "시\n",
      "개인정보가\n",
      "유출될\n",
      "수\n",
      "있으니\n",
      "꼭\n",
      "로그아웃을\n",
      "해주세요.\n",
      "회원가입\n",
      "ID/PW\n",
      "찾기\n",
      "IT\n",
      "교육의\n",
      "글로벌\n",
      "메카!\n",
      "한국기술교육대학교\n",
      "컴퓨터공학부\n",
      "Close\n",
      "소개\n",
      "구성원소개\n",
      "학사안내\n",
      "입학\n",
      "학부\n",
      "대학원\n",
      "학부광장\n",
      "자료실\n",
      "대학원\n",
      "공학교육인증\n",
      "Registration\n",
      "컴퓨터공학부\n",
      "School\n",
      "of\n",
      "Computer\n",
      "Science\n",
      "and\n",
      "Engineering\n",
      "IT\n",
      "융합소프트웨어\n",
      "인력양성사업\n",
      "CK\n",
      "(Creative\n",
      "Korea)-I\n",
      "교육역량강화사업\n",
      "온라인\n",
      "컨텐츠\n",
      "Online\n",
      "Contents\n",
      "for\n",
      "Education\n",
      "Capability\n",
      "Empowerment\n",
      "IT\n",
      "교육의\n",
      "글로벌\n",
      "메카\n",
      "한국기술교육대학교\n",
      "컴퓨터공학부\n",
      "홈페이지에\n",
      "오신\n",
      "것을\n",
      "환영합니다!\n",
      "IT\n",
      "융합소프트웨어\n",
      "인력양성사업\n",
      "글로벌\n",
      "수준의\n",
      "IT전문인력\n",
      "양성\n",
      "IT융합분야에\n",
      "대한\n",
      "국제적인\n",
      "경쟁력\n",
      "고취\n",
      "바로가기\n",
      "교육역량강화사업\n",
      "컨텐츠\n",
      "교육역량강화사업\n",
      "온라인\n",
      "컨텐츠를\n",
      "소개합니다.\n",
      "바로가기\n",
      "공지사항\n",
      "[특성화]\n",
      "토익,\n",
      "오픽\n",
      "강좌\n",
      "수요조사\n",
      "공고\n",
      "2015-10-06\n",
      "16:41\n",
      "16:41\n",
      "[특성화]\n",
      "IT융합\n",
      "개도국\n",
      "해외기술지원봉사\n",
      "참가자\n",
      "모집...\n",
      "2015-10-05\n",
      "16:38\n",
      "16:38\n",
      "[특성화]\n",
      "장비대여\n",
      "안내\n",
      "2015-10-05\n",
      "15:28\n",
      "15:28\n",
      "제4회\n",
      "TOPCIT\n",
      "정기평가\n",
      "2015-10-05\n",
      "14:56\n",
      "14:56\n",
      "[특성화]\n",
      "국제게임전시회\n",
      "G-star\n",
      "2015\n",
      "참관\n",
      "안내\n",
      "2015-10-05\n",
      "11:51\n",
      "11:51\n",
      "자유게시판\n",
      "(주)\n",
      "엔에스이\n",
      "에서\n",
      "개발자를\n",
      "모집합니다.\n",
      "2015-09-30\n",
      "13:30\n",
      "13:30\n",
      "졸업작품\n",
      "전시회\n",
      "컴퓨터공학부\n",
      "인기상\n",
      "투표\n",
      "이벤트\n",
      "2015-09-25\n",
      "01:21\n",
      "01:21\n",
      "삼성\n",
      "대학생\n",
      "프로그래밍\n",
      "경진대회\n",
      "2015-09-15\n",
      "11:17\n",
      "11:17\n",
      "2015년\n",
      "4차\n",
      "모의토익\n",
      "지원\n",
      "2015-09-09\n",
      "23:34\n",
      "23:34\n",
      "난\n",
      "괜찮아,\n",
      "돌아가면\n",
      "되지~\n",
      "2015-09-09\n",
      "15:51\n",
      "15:51\n",
      "취업게시판\n",
      "[특성화]\n",
      "(주)KMW\n",
      "인턴사원\n",
      "모집공고\n",
      "2015-09-23\n",
      "14:31\n",
      "14:31\n",
      "㈜인젠트\n",
      "기술연구소\n",
      "전문연구요원\n",
      "모집\n",
      "2015-09-14\n",
      "11:54\n",
      "11:54\n",
      "펜타인\n",
      "2015년도\n",
      "신입사원\n",
      "채용공고\n",
      "2015-09-03\n",
      "16:16\n",
      "16:16\n",
      "LIG인베니아\n",
      "(코스닥상장\n",
      "LIG그룹사\n",
      "디스플레이장비전...\n",
      "2015-09-03\n",
      "14:01\n",
      "14:01\n",
      "㈜\n",
      "한울\n",
      "소프트웨어\n",
      "개발자\n",
      "2015-06-18\n",
      "10:28\n",
      "10:28\n",
      "VENTURESQUARE\n",
      "경기창조경제혁신센터,\n",
      "IoT\n",
      "분야\n",
      "보육기업\n",
      "4개사\n",
      "추가...\n",
      "2015-10-06\n",
      "16:37\n",
      "16:37\n",
      "[펀다\n",
      "매거진]\n",
      "핀테크,\n",
      "금융과\n",
      "기술의\n",
      "만남\n",
      "#5\n",
      "2015-10-06\n",
      "15:25\n",
      "15:25\n",
      "업계\n",
      "최고\n",
      "슈퍼\n",
      "멘토에게\n",
      "배우자\n",
      "인터랙티브\n",
      "교육\n",
      "‘클...\n",
      "2015-10-06\n",
      "15:12\n",
      "15:12\n",
      "우리에게\n",
      "없는건\n",
      "시간이\n",
      "아니다\n",
      "2015-10-06\n",
      "14:57\n",
      "14:57\n",
      "[코리안\n",
      "스타트업을\n",
      "위한\n",
      "글로벌\n",
      "여행\n",
      "티켓]\n",
      "87편.스타...\n",
      "2015-10-06\n",
      "14:50\n",
      "14:50\n",
      "전자신문\n",
      "전자신문\n",
      "아이티어\n",
      "1기\n",
      "“생생한\n",
      "IT\n",
      "소식\n",
      "전하겠습니다”\n",
      "2015-10-06\n",
      "19:51\n",
      "19:51\n",
      "세계\n",
      "최초\n",
      "3밴드\n",
      "LTE-A\n",
      "공방\n",
      "일단락···KT,\n",
      "SKT\n",
      "상대\n",
      "소...\n",
      "2015-10-06\n",
      "19:00\n",
      "19:00\n",
      "[ET단상]주파수할당,\n",
      "사회\n",
      "효율성을\n",
      "핵심\n",
      "가치로\n",
      "2015-10-06\n",
      "18:00\n",
      "18:00\n",
      "[해설]2.1㎓\n",
      "경매\n",
      "`3사3색`\n",
      "주장...업계\n",
      "\"경매방식\n",
      "명...\n",
      "2015-10-06\n",
      "18:00\n",
      "18:00\n",
      "[ET단상]방송\n",
      "콘텐츠\n",
      "글로벌\n",
      "유통\n",
      "활성화를\n",
      "위한\n",
      "전략\n",
      "2015-10-06\n",
      "18:00\n",
      "18:00\n",
      "RE/CODE\n",
      "Microsoft\n",
      "Unveils\n",
      "Surface\n",
      "Laptop,\n",
      "Updated\n",
      "Lumi...\n",
      "2015-10-07\n",
      "01:14\n",
      "01:14\n",
      "Microsoft\n",
      "Now\n",
      "Taking\n",
      "Applications\n",
      "for\n",
      "$3,000\n",
      "H...\n",
      "2015-10-06\n",
      "23:55\n",
      "23:55\n",
      "Twitter\n",
      "Moments\n",
      "Are\n",
      "Like\n",
      "Snapchat’s\n",
      "Live\n",
      "Stori...\n",
      "2015-10-06\n",
      "23:42\n",
      "23:42\n",
      "Here\n",
      "Are\n",
      "the\n",
      "Four\n",
      "New\n",
      "Science\n",
      "Startups\n",
      "Backed\n",
      "...\n",
      "2015-10-06\n",
      "22:28\n",
      "22:28\n",
      "Twitter’s\n",
      "Next\n",
      "Hail\n",
      "Mary,\n",
      "Project\n",
      "Lightning,\n",
      "H...\n",
      "2015-10-06\n",
      "22:00\n",
      "22:00\n",
      "Back\n",
      "to\n",
      "Top\n",
      "Leading\n",
      "Together\n",
      "for\n",
      "Brighter\n",
      "Future\n",
      "--\n",
      "Quick\n",
      "Navigation\n",
      "한국기술교육대학교\n",
      "홈페이지\n",
      "한국기술교육대학교\n",
      "WEBMAIL\n",
      "한국기술교육대학교\n",
      "온라인\n",
      "평생교육원\n",
      "교육역량강화사업\n",
      "온라인\n",
      "컨텐츠\n",
      "컴퓨터공학부\n",
      "포트폴리오\n",
      "--\n",
      "IT\n",
      "융합소프트웨어\n",
      "인력양성사업\n",
      "Campus\n",
      "Location\n",
      "Contact\n",
      "CSE\n",
      "충청남도\n",
      "천안시\n",
      "동남구\n",
      "병천면\n",
      "충절로\n",
      "1600\n",
      "한국기술교육대학교\n",
      "컴퓨터공학부\n",
      "학과사무실\n",
      "TEL\n",
      "(041)\n",
      "560\n",
      "1460~1461\n",
      "FAX\n",
      "(041)\n",
      "560\n",
      "1462\n",
      "Facebook\n",
      "Twitter\n",
      "Google\n",
      "Plus\n",
      "Linkedin\n",
      "Youtube\n",
      "Flickr\n",
      "--\n",
      "(31253)\n",
      "충청남도\n",
      "천안시\n",
      "동남구\n",
      "병천면\n",
      "충절로\n",
      "1600\n",
      "(가전리,\n",
      "한국기술교육대학교)\n",
      "컴퓨터공학부\n",
      "Copyright\n",
      "©\n",
      "2015.\n",
      "All\n",
      "rights\n",
      "reserved\n"
     ]
    }
   ],
   "source": [
    "for i in range(0, len(res_string)):\n",
    "    print res_string[i]"
   ]
  },
  {
   "cell_type": "code",
   "execution_count": null,
   "metadata": {
    "collapsed": true
   },
   "outputs": [],
   "source": []
  }
 ],
 "metadata": {
  "kernelspec": {
   "display_name": "Python 2",
   "language": "python",
   "name": "python2"
  },
  "language_info": {
   "codemirror_mode": {
    "name": "ipython",
    "version": 2
   },
   "file_extension": ".py",
   "mimetype": "text/x-python",
   "name": "python",
   "nbconvert_exporter": "python",
   "pygments_lexer": "ipython2",
   "version": "2.7.9"
  }
 },
 "nbformat": 4,
 "nbformat_minor": 0
}
